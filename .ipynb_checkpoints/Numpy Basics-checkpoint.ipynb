{
 "cells": [
  {
   "cell_type": "code",
   "execution_count": 1,
   "metadata": {},
   "outputs": [],
   "source": [
    "import numpy as np"
   ]
  },
  {
   "cell_type": "markdown",
   "metadata": {},
   "source": [
    "## Making Matrices of Dezired Shape"
   ]
  },
  {
   "cell_type": "markdown",
   "metadata": {},
   "source": [
    "#### Zero Vector"
   ]
  },
  {
   "cell_type": "code",
   "execution_count": 2,
   "metadata": {},
   "outputs": [
    {
     "name": "stdout",
     "output_type": "stream",
     "text": [
      "Vector :\n",
      " [[0.]\n",
      " [0.]\n",
      " [0.]] \n",
      "\n",
      "Shape : (3, 1)\n"
     ]
    }
   ],
   "source": [
    "x = np.zeros((3,1))\n",
    "print('Vector :\\n',x,'\\n')\n",
    "print('Shape :',x.shape)"
   ]
  },
  {
   "cell_type": "markdown",
   "metadata": {},
   "source": [
    "#### Zero Matrices "
   ]
  },
  {
   "cell_type": "code",
   "execution_count": 3,
   "metadata": {},
   "outputs": [
    {
     "name": "stdout",
     "output_type": "stream",
     "text": [
      "Matrix :\n",
      " [[0. 0. 0. 0.]\n",
      " [0. 0. 0. 0.]\n",
      " [0. 0. 0. 0.]] \n",
      "\n",
      "Shape : (3, 4)\n",
      "Rows :  3\n",
      "Columns : 4\n"
     ]
    }
   ],
   "source": [
    "x = np.zeros((3,4))\n",
    "print('Matrix :\\n',x,'\\n')\n",
    "print('Shape :',x.shape)\n",
    "print('Rows : ',x.shape[0])\n",
    "print('Columns :',x.shape[1])"
   ]
  },
  {
   "cell_type": "markdown",
   "metadata": {},
   "source": [
    "#### Ones Vector"
   ]
  },
  {
   "cell_type": "code",
   "execution_count": 4,
   "metadata": {},
   "outputs": [
    {
     "name": "stdout",
     "output_type": "stream",
     "text": [
      "Vector :\n",
      " [[1.]\n",
      " [1.]\n",
      " [1.]] \n",
      "\n",
      "Shape : (3, 1)\n"
     ]
    }
   ],
   "source": [
    "x = np.ones((3,1))\n",
    "print('Vector :\\n',x,'\\n')\n",
    "print('Shape :',x.shape)"
   ]
  },
  {
   "cell_type": "markdown",
   "metadata": {},
   "source": [
    "#### Ones Matrix "
   ]
  },
  {
   "cell_type": "code",
   "execution_count": 5,
   "metadata": {},
   "outputs": [
    {
     "name": "stdout",
     "output_type": "stream",
     "text": [
      "Matrix :\n",
      " [[1. 1. 1. 1.]\n",
      " [1. 1. 1. 1.]\n",
      " [1. 1. 1. 1.]] \n",
      "\n",
      "Shape : (3, 4)\n",
      "Rows :  3\n",
      "Columns : 4\n"
     ]
    }
   ],
   "source": [
    "x = np.ones((3,4))\n",
    "print('Matrix :\\n',x,'\\n')\n",
    "print('Shape :',x.shape)\n",
    "print('Rows : ',x.shape[0])\n",
    "print('Columns :',x.shape[1])"
   ]
  },
  {
   "cell_type": "markdown",
   "metadata": {},
   "source": [
    "#### Random Vectors and Matrices"
   ]
  },
  {
   "cell_type": "code",
   "execution_count": 6,
   "metadata": {},
   "outputs": [
    {
     "name": "stdout",
     "output_type": "stream",
     "text": [
      "[[0.46930259]\n",
      " [0.29101471]\n",
      " [0.23713545]]\n"
     ]
    }
   ],
   "source": [
    "x = np.random.rand(3,1)\n",
    "print(x)"
   ]
  },
  {
   "cell_type": "code",
   "execution_count": 7,
   "metadata": {},
   "outputs": [
    {
     "name": "stdout",
     "output_type": "stream",
     "text": [
      "[[-0.85079371]\n",
      " [ 0.92970735]\n",
      " [ 2.31028664]]\n"
     ]
    }
   ],
   "source": [
    "x = np.random.randn(3,1)\n",
    "print(x)"
   ]
  },
  {
   "cell_type": "code",
   "execution_count": 8,
   "metadata": {},
   "outputs": [
    {
     "name": "stdout",
     "output_type": "stream",
     "text": [
      "[[0.16318187 0.02378397 0.60896135 0.62264527]\n",
      " [0.67852465 0.59899026 0.46167467 0.89510339]\n",
      " [0.38999779 0.52219421 0.2000156  0.71990018]]\n"
     ]
    }
   ],
   "source": [
    "x = np.random.rand(3,4)\n",
    "print(x)"
   ]
  },
  {
   "cell_type": "code",
   "execution_count": 9,
   "metadata": {},
   "outputs": [
    {
     "name": "stdout",
     "output_type": "stream",
     "text": [
      "[[ 0.54434771 -0.78056448  0.05425946  0.67508937]\n",
      " [ 0.8202727  -0.46733587 -0.96980644  1.63251083]\n",
      " [-0.840114    0.41386172  0.27954149 -0.0299406 ]]\n"
     ]
    }
   ],
   "source": [
    "x = np.random.randn(3,4)\n",
    "print(x)"
   ]
  },
  {
   "cell_type": "markdown",
   "metadata": {},
   "source": [
    "## NOTE:\n",
    "#### np.random.randn generates samples from normal  distribution\n",
    "#### np.random.rand   generates samples from uniform distribution"
   ]
  },
  {
   "cell_type": "markdown",
   "metadata": {},
   "source": [
    "### Matrix Multiplication"
   ]
  },
  {
   "cell_type": "code",
   "execution_count": 10,
   "metadata": {},
   "outputs": [
    {
     "name": "stdout",
     "output_type": "stream",
     "text": [
      "A :\n",
      " [[1 2 3]\n",
      " [3 4 5]]\n",
      "Shape : (2, 3) \n",
      "\n",
      "B :\n",
      " [[1 2]\n",
      " [3 4]\n",
      " [5 6]]\n",
      "Shape : (3, 2) \n",
      "\n",
      "C :\n",
      " [[22 28]\n",
      " [40 52]]\n",
      "Shape : (2, 2)\n"
     ]
    }
   ],
   "source": [
    "A = np.array([[1,2,3],[3,4,5]])\n",
    "print('A :\\n',A)\n",
    "print('Shape :',A.shape,'\\n')\n",
    "\n",
    "B = np.array([[1,2],[3,4],[5,6]])\n",
    "print('B :\\n',B)\n",
    "print('Shape :',B.shape,'\\n')\n",
    "\n",
    "C = np.dot(A,B)\n",
    "print('C :\\n',C)\n",
    "print('Shape :',C.shape)"
   ]
  },
  {
   "cell_type": "markdown",
   "metadata": {},
   "source": [
    "### Transpose of Matrix"
   ]
  },
  {
   "cell_type": "code",
   "execution_count": 11,
   "metadata": {},
   "outputs": [
    {
     "name": "stdout",
     "output_type": "stream",
     "text": [
      "A :\n",
      " [[1 2]\n",
      " [3 4]\n",
      " [5 6]]\n",
      "Shape : (3, 2)\n",
      "\n",
      "\n",
      "Transpose A:\n",
      " [[1 3 5]\n",
      " [2 4 6]]\n",
      "Shape : (2, 3)\n"
     ]
    }
   ],
   "source": [
    "A = np.array([[1,2],\n",
    "              [3,4],\n",
    "              [5,6]])\n",
    "print('A :\\n',A)\n",
    "print('Shape :',A.shape)\n",
    "print('\\n')\n",
    "A_transpose = A.T\n",
    "print('Transpose A:\\n',A_transpose)\n",
    "print('Shape :',A_transpose.shape)"
   ]
  },
  {
   "cell_type": "markdown",
   "metadata": {},
   "source": [
    "### Why numpy is fast???"
   ]
  },
  {
   "cell_type": "code",
   "execution_count": 12,
   "metadata": {},
   "outputs": [],
   "source": [
    "A = np.random.rand(5000000,1)\n",
    "B = np.random.rand(5000000,1)"
   ]
  },
  {
   "cell_type": "markdown",
   "metadata": {},
   "source": [
    "### Both A and B have 5 million entries; let us see how much time it takes when we get their dot product in a conventional way"
   ]
  },
  {
   "cell_type": "code",
   "execution_count": 13,
   "metadata": {},
   "outputs": [],
   "source": [
    "import time"
   ]
  },
  {
   "cell_type": "code",
   "execution_count": 18,
   "metadata": {},
   "outputs": [
    {
     "name": "stdout",
     "output_type": "stream",
     "text": [
      "Time Needed using for loop :  1224.499225616455 ms\n",
      "(5000000, 1)\n"
     ]
    }
   ],
   "source": [
    "C = np.zeros((5000000,1))\n",
    "tic = time.time()\n",
    "for i in range(5000000):\n",
    "    C[i][0] = A[i][0]*B[i][0]\n",
    "toc = time.time()\n",
    "print('Time Needed using for loop : ',(toc-tic)*100,'ms')\n",
    "print(C.shape)"
   ]
  },
  {
   "cell_type": "markdown",
   "metadata": {},
   "source": [
    "#### Using inbuilt numpy functions"
   ]
  },
  {
   "cell_type": "code",
   "execution_count": 19,
   "metadata": {},
   "outputs": [
    {
     "name": "stdout",
     "output_type": "stream",
     "text": [
      "Time Needed without for loop :  3.8010120391845703 ms\n",
      "(5000000, 1)\n"
     ]
    }
   ],
   "source": [
    "tic = time.time()\n",
    "C = A*B\n",
    "toc = time.time()\n",
    "print('Time Needed without for loop : ',(toc-tic)*100,'ms')\n",
    "print(C.shape)"
   ]
  },
  {
   "cell_type": "markdown",
   "metadata": {},
   "source": [
    "### Thus we can see how fast numpy is!!!"
   ]
  },
  {
   "cell_type": "markdown",
   "metadata": {},
   "source": [
    "#### Reshaping a Vector"
   ]
  },
  {
   "cell_type": "code",
   "execution_count": 23,
   "metadata": {},
   "outputs": [
    {
     "name": "stdout",
     "output_type": "stream",
     "text": [
      "[[1 2 3]\n",
      " [4 5 6]]\n",
      "Shape : (2, 3)\n",
      "\n",
      "\n",
      "[[1 2]\n",
      " [3 4]\n",
      " [5 6]]\n",
      "Shape : (3, 2)\n"
     ]
    }
   ],
   "source": [
    "x = np.array([[1,2,3],[4,5,6]])\n",
    "print(x)\n",
    "print('Shape :',x.shape)\n",
    "print('\\n')\n",
    "a = x.reshape(3,2)\n",
    "print(a)\n",
    "print('Shape :',a.shape)"
   ]
  },
  {
   "cell_type": "markdown",
   "metadata": {},
   "source": [
    "### Python Broadcasting"
   ]
  },
  {
   "cell_type": "code",
   "execution_count": 35,
   "metadata": {},
   "outputs": [
    {
     "name": "stdout",
     "output_type": "stream",
     "text": [
      "[[2 2 2]\n",
      " [2 2 2]]\n"
     ]
    }
   ],
   "source": [
    "x = np.array([[1,1,1],\n",
    "             [1,1,1]])\n",
    "print(x+1)"
   ]
  },
  {
   "cell_type": "code",
   "execution_count": 36,
   "metadata": {},
   "outputs": [
    {
     "name": "stdout",
     "output_type": "stream",
     "text": [
      "[[2 2 2]\n",
      " [3 3 3]]\n"
     ]
    }
   ],
   "source": [
    "v = [[1],\n",
    "     [2]]\n",
    "print(x+v)"
   ]
  },
  {
   "cell_type": "code",
   "execution_count": 38,
   "metadata": {},
   "outputs": [
    {
     "name": "stdout",
     "output_type": "stream",
     "text": [
      "[[2 3 4]\n",
      " [2 3 4]]\n"
     ]
    }
   ],
   "source": [
    "v1 = [[1,2,3]]\n",
    "print(x+v1)"
   ]
  },
  {
   "cell_type": "code",
   "execution_count": 25,
   "metadata": {},
   "outputs": [
    {
     "name": "stdout",
     "output_type": "stream",
     "text": [
      "[[0 3 4]\n",
      " [2 6 4]]\n"
     ]
    }
   ],
   "source": [
    "x = np.array([[0,3,4],\n",
    "             [2,6,4]])\n",
    "print(x)"
   ]
  },
  {
   "cell_type": "markdown",
   "metadata": {},
   "source": [
    "##### Normalizing each row"
   ]
  },
  {
   "cell_type": "code",
   "execution_count": 29,
   "metadata": {},
   "outputs": [
    {
     "name": "stdout",
     "output_type": "stream",
     "text": [
      "[[5.        ]\n",
      " [7.48331477]]\n"
     ]
    }
   ],
   "source": [
    "x_norm = np.linalg.norm(x,axis=1,keepdims=True)\n",
    "print(x_norm)"
   ]
  },
  {
   "cell_type": "code",
   "execution_count": 30,
   "metadata": {},
   "outputs": [
    {
     "name": "stdout",
     "output_type": "stream",
     "text": [
      "[[0.         0.6        0.8       ]\n",
      " [0.26726124 0.80178373 0.53452248]]\n"
     ]
    }
   ],
   "source": [
    "print(x/x_norm)"
   ]
  },
  {
   "cell_type": "markdown",
   "metadata": {},
   "source": [
    "##### What if we normalize each column"
   ]
  },
  {
   "cell_type": "code",
   "execution_count": 31,
   "metadata": {},
   "outputs": [
    {
     "name": "stdout",
     "output_type": "stream",
     "text": [
      "[[2.         6.70820393 5.65685425]]\n"
     ]
    }
   ],
   "source": [
    "x_norm_1 = np.linalg.norm(x,axis=0,keepdims=True)\n",
    "print(x_norm_1)"
   ]
  },
  {
   "cell_type": "code",
   "execution_count": 32,
   "metadata": {},
   "outputs": [
    {
     "name": "stdout",
     "output_type": "stream",
     "text": [
      "[[0.         0.4472136  0.70710678]\n",
      " [1.         0.89442719 0.70710678]]\n"
     ]
    }
   ],
   "source": [
    "print(x/x_norm_1)"
   ]
  }
 ],
 "metadata": {
  "kernelspec": {
   "display_name": "Python 3",
   "language": "python",
   "name": "python3"
  },
  "language_info": {
   "codemirror_mode": {
    "name": "ipython",
    "version": 3
   },
   "file_extension": ".py",
   "mimetype": "text/x-python",
   "name": "python",
   "nbconvert_exporter": "python",
   "pygments_lexer": "ipython3",
   "version": "3.7.3"
  }
 },
 "nbformat": 4,
 "nbformat_minor": 4
}
